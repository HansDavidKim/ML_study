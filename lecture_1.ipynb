{
 "cells": [
  {
   "cell_type": "markdown",
   "metadata": {},
   "source": [
    "#### ML + DL 첫 걸음\n",
    "머신러닝 : \n",
    "기계 자체가 데이터를 통해 학습하여 특정 작업을 수행하는 것\n",
    "기존 알고리즘 (e.g 정렬 알고리즘) 과는 달리 근사 알고리즘에 해당\n",
    "\n",
    "데이터 사이언스 : 데이터를 분석하고 해석하여 지식과 통찰력을 얻는 학문\n",
    "데이터 사이언스 = 통계추론 + 머신러닝\n",
    "##### 우리의 스터디는 데이터 사이언스에서의 머신러닝에 초점을 맞춰서 진행할 것.\n"
   ]
  },
  {
   "cell_type": "markdown",
   "metadata": {},
   "source": [
    "#### 오늘의 첫 주제는 선형 회귀 (Linear Regression)\n",
    "\n",
    "#### 회귀 분석이란?\n",
    "여러 자료들 간의 관계성을 수학적으로 추정, 설명하는 방식\n",
    "그 중 선형 회귀를 한다는 건, 주어진 데이터를 가장 잘 설명하는 선형 함수를 구한다는 것.\n",
    "\n",
    "\n",
    "신체 검사를 통해 병역 판정을 할 때의 급수를 판정하게 되는데 이를 벡터로 표현하면 다음과 같이 표현할 수 있습니다.\n",
    "\n",
    "$x^T=[170,70,1]$\n",
    "\n",
    "이처럼 우리는 각 데이터를 벡터로 나타낼 수 있습니다.\n",
    "\n",
    "xy 평면에서 우리가 예측하고자 하는 값을 y, 그에 대한 예측값을 $\\hat{y}$라고 할 때, 우리는 다음과 같이 나타낼 수 있습니다.\n",
    "\n",
    "$\\hat{y}=ax + b$\n",
    "\n",
    "\n",
    "이와 동일하게, 우리는 여러 독립 변수들로 이루어진 데이터에 대해서도 행렬을 통해 나타낼 수 있습니다."
   ]
  },
  {
   "cell_type": "code",
   "execution_count": null,
   "metadata": {},
   "outputs": [],
   "source": []
  },
  {
   "cell_type": "code",
   "execution_count": null,
   "metadata": {},
   "outputs": [],
   "source": []
  }
 ],
 "metadata": {
  "kernelspec": {
   "display_name": ".venv",
   "language": "python",
   "name": "python3"
  },
  "language_info": {
   "codemirror_mode": {
    "name": "ipython",
    "version": 3
   },
   "file_extension": ".py",
   "mimetype": "text/x-python",
   "name": "python",
   "nbconvert_exporter": "python",
   "pygments_lexer": "ipython3",
   "version": "3.13.2"
  }
 },
 "nbformat": 4,
 "nbformat_minor": 2
}
